{
 "cells": [
  {
   "cell_type": "code",
   "execution_count": 1,
   "id": "24e58de8-64f7-48f8-bfa2-10921d7d96ca",
   "metadata": {},
   "outputs": [
    {
     "name": "stdout",
     "output_type": "stream",
     "text": [
      "          Country  Population_1950\n",
      "0  United Kingdom         50616000\n",
      "1         Germany         68374000\n",
      "2           Japan         83625000\n",
      "3   United States        157813000\n",
      "4    Soviet Union        179400000\n"
     ]
    }
   ],
   "source": [
    "import pandas as pd\n",
    "\n",
    "# Create the test dataframe\n",
    "data = {\n",
    "    'Country': ['United Kingdom', 'Germany', 'Japan', 'United States', 'Soviet Union'],\n",
    "    'Population_1950': [50616000, 68374000, 83625000, 157813000, 179400000]\n",
    "}\n",
    "df = pd.DataFrame(data)\n",
    "\n",
    "# Display the dataframe\n",
    "print(df)"
   ]
  },
  {
   "cell_type": "code",
   "execution_count": 2,
   "id": "9ceffa6e-d4a2-4af1-a13a-19932cfb017e",
   "metadata": {},
   "outputs": [
    {
     "name": "stdout",
     "output_type": "stream",
     "text": [
      "          Country  Population_1950  Population_in_Millions\n",
      "0  United Kingdom         50616000                  50.616\n",
      "1         Germany         68374000                  68.374\n",
      "2           Japan         83625000                  83.625\n",
      "3   United States        157813000                 157.813\n",
      "4    Soviet Union        179400000                 179.400\n"
     ]
    }
   ],
   "source": [
    "# Create a new column using a mathematical procedure with a lambda function\n",
    "df['Population_in_Millions'] = df['Population_1950'].apply(lambda x: x / 1000000)\n",
    "\n",
    "# Display the updated dataframe\n",
    "print(df)"
   ]
  },
  {
   "cell_type": "code",
   "execution_count": 3,
   "id": "71974c2a-bc9f-49c9-86c6-a92810dd503e",
   "metadata": {},
   "outputs": [
    {
     "name": "stdout",
     "output_type": "stream",
     "text": [
      "          Country  Population_1950  Population_in_Millions Hemisphere_Flag\n",
      "0  United Kingdom         50616000                  50.616         Eastern\n",
      "1         Germany         68374000                  68.374         Eastern\n",
      "2           Japan         83625000                  83.625         Eastern\n",
      "3   United States        157813000                 157.813         Western\n",
      "4    Soviet Union        179400000                 179.400         Eastern\n"
     ]
    }
   ],
   "source": [
    "# Create a flag column based on the text column using a lambda function\n",
    "df['Hemisphere_Flag'] = df['Country'].apply(lambda x: 'Western' if x in ['United States'] else 'Eastern')\n",
    "\n",
    "# Display the final dataframe\n",
    "print(df)"
   ]
  },
  {
   "cell_type": "code",
   "execution_count": null,
   "id": "66149d5e-50d5-45b9-bb5f-157e6991daff",
   "metadata": {},
   "outputs": [],
   "source": []
  }
 ],
 "metadata": {
  "kernelspec": {
   "display_name": "Python [conda env:20th_century] *",
   "language": "python",
   "name": "conda-env-20th_century-py"
  },
  "language_info": {
   "codemirror_mode": {
    "name": "ipython",
    "version": 3
   },
   "file_extension": ".py",
   "mimetype": "text/x-python",
   "name": "python",
   "nbconvert_exporter": "python",
   "pygments_lexer": "ipython3",
   "version": "3.13.5"
  }
 },
 "nbformat": 4,
 "nbformat_minor": 5
}
