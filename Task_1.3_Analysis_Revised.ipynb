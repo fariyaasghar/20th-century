{
 "cells": [
  {
   "cell_type": "code",
   "execution_count": 1,
   "id": "0f38ff62-57e1-4959-b174-57035cfb769d",
   "metadata": {},
   "outputs": [],
   "source": [
    "# Import the necessary library\n",
    "import pandas as pd"
   ]
  },
  {
   "cell_type": "code",
   "execution_count": 2,
   "id": "c12da2e1-a19f-4386-be4c-d3d8c5e31ae3",
   "metadata": {},
   "outputs": [],
   "source": [
    "# --- Original Data Setup (Keep this part) ---\n",
    "data = {\n",
    "    'Country': ['United Kingdom', 'Germany', 'Japan', 'United States', 'Soviet Union'],\n",
    "    'Population_1950': [50616000, 68374000, 83625000, 157813000, 179400000]\n",
    "}\n",
    "df = pd.DataFrame(data)"
   ]
  },
  {
   "cell_type": "code",
   "execution_count": 3,
   "id": "62c597a8-8353-4dfd-97a1-90348893719d",
   "metadata": {},
   "outputs": [
    {
     "name": "stdout",
     "output_type": "stream",
     "text": [
      "          Country  Population_1950\n",
      "0  United Kingdom         50616000\n",
      "1         Germany         68374000\n",
      "2           Japan         83625000\n",
      "3   United States        157813000\n",
      "4    Soviet Union        179400000\n"
     ]
    }
   ],
   "source": [
    "print (df)"
   ]
  },
  {
   "cell_type": "code",
   "execution_count": 4,
   "id": "f99cb3ca-9533-4cc8-a883-31e11728db93",
   "metadata": {},
   "outputs": [],
   "source": [
    "# ## Revisions Based on Tutor Feedback\n",
    "#\n",
    "# The following code has been refactored to use named functions instead of direct lambdas.\n",
    "# This improves readability, reusability, and makes the code easier to test and maintain.\n",
    "\n",
    "# --- NEW: Define the reusable functions ---\n",
    "def convert_to_millions(population):\n",
    "    \"\"\"Converts a population number into millions.\"\"\"\n",
    "    return population / 1000000\n",
    "\n",
    "def assign_hemisphere(country_name):\n",
    "    \"\"\"Assigns a hemisphere flag based on the country name.\"\"\"\n",
    "    if country_name == 'United States':\n",
    "        return 'Western'\n",
    "    else:\n",
    "        return 'Eastern'"
   ]
  },
  {
   "cell_type": "code",
   "execution_count": 5,
   "id": "b369fe82-73f7-4734-b761-a1113d047135",
   "metadata": {},
   "outputs": [
    {
     "name": "stdout",
     "output_type": "stream",
     "text": [
      "--- Final DataFrame with Revisions ---\n",
      "          Country  Population_1950  Population_in_Millions Hemisphere_Flag\n",
      "0  United Kingdom         50616000                  50.616         Eastern\n",
      "1         Germany         68374000                  68.374         Eastern\n",
      "2           Japan         83625000                  83.625         Eastern\n",
      "3   United States        157813000                 157.813         Western\n",
      "4    Soviet Union        179400000                 179.400         Eastern\n"
     ]
    }
   ],
   "source": [
    "# --- NEW: Apply the named functions to create new columns ---\n",
    "df['Population_in_Millions'] = df['Population_1950'].apply(convert_to_millions)\n",
    "df['Hemisphere_Flag'] = df['Country'].apply(assign_hemisphere)\n",
    "\n",
    "# Display the final, updated dataframe\n",
    "print(\"--- Final DataFrame with Revisions ---\")\n",
    "print(df)"
   ]
  }
 ],
 "metadata": {
  "kernelspec": {
   "display_name": "Python [conda env:20th_century] *",
   "language": "python",
   "name": "conda-env-20th_century-py"
  },
  "language_info": {
   "codemirror_mode": {
    "name": "ipython",
    "version": 3
   },
   "file_extension": ".py",
   "mimetype": "text/x-python",
   "name": "python",
   "nbconvert_exporter": "python",
   "pygments_lexer": "ipython3",
   "version": "3.13.5"
  }
 },
 "nbformat": 4,
 "nbformat_minor": 5
}
